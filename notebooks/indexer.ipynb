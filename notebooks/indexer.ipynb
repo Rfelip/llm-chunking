{
 "cells": [
  {
   "cell_type": "code",
   "execution_count": null,
   "metadata": {},
   "outputs": [],
   "source": [
    "from trafilatura import fetch_url, extract\n",
    "from urllib.parse import urljoin\n",
    "from collections import deque\n",
    "import re\n",
    "\n",
    "def extract_info_from_website(url):\n",
    "    download    = fetch_url(url)\n",
    "    html_info   = extract(download, output_format=\"html\",include_links=True, include_comments=False, include_tables=False, no_fallback=True)\n",
    "    text_info   = extract(download, include_comments=False, include_tables=False, no_fallback=True)\n",
    "    return html_info, text_info\n",
    "\n",
    "class LinkNode:\n",
    "    def __init__(self, url, depth=0, parent=None):\n",
    "        self.url = url\n",
    "        self.html_text = \"\"\n",
    "        self.text = \"\"\n",
    "        self.children = []\n",
    "        self.depth = depth\n",
    "        self.parent = parent\n",
    "\n",
    "    def populate_text(self):\n",
    "        html_text, page_text = extract_info_from_website(self.url)\n",
    "        self.text = page_text\n",
    "        self.html_text = html_text\n",
    "\n",
    "class LinkTree:\n",
    "\n",
    "    def __init__(self, root_url, max_depth=3):\n",
    "        \n",
    "        self.root = LinkNode(root_url)\n",
    "\n",
    "        self.max_depth = max_depth\n",
    "\n",
    "        self.visited = {root_url}\n",
    "\n",
    "        self.queue = deque([self.root])\n",
    "\n",
    "    def extract_links(self, html, base_url):\n",
    "        pattern = r'href=\"(?!{}#|#)([^\"]+)\"'.format(re.escape(base_url))\n",
    "        links = re.findall(pattern, html)\n",
    "        # Convert relative links to absolute URLs\n",
    "        return [urljoin(base_url, link) for link in links]\n",
    "\n",
    "    \n",
    "    \n",
    "    def build_tree(self):\n",
    "        while self.queue:\n",
    "            current_node = self.queue.popleft()\n",
    "            \n",
    "            if current_node.depth >= self.max_depth:\n",
    "                continue\n",
    "            \n",
    "            try:\n",
    "                current_node.populate_text()\n",
    "            except:\n",
    "                print(\"When processing one of the nodes, the extraction of text didn't work.\")\n",
    "                print(\"Information might be missing...\")\n",
    "                continue\n",
    "            \n",
    "            if not current_node.html_text:\n",
    "                print(\"One of the nodes didn't have any info.\")\n",
    "                continue\n",
    "            \n",
    "            child_links = self.extract_links(current_node.html_text, current_node.url)\n",
    "\n",
    "            for link in child_links:\n",
    "                if link not in self.visited:\n",
    "                    self.visited.add(link)\n",
    "                    child_node = LinkNode(\n",
    "                        url=link,\n",
    "                        depth=current_node.depth + 1,\n",
    "                        parent=current_node\n",
    "                    )\n",
    "                    current_node.children.append(child_node)\n",
    "                    self.queue.append(child_node)\n",
    "\n",
    "    def print_tree(self):\n",
    "        self._print_node(self.root)\n",
    "    \n",
    "    def _print_node(self, node, indent=0):\n",
    "        print(' ' * indent * 4 + f'└── {node.url} (Depth: {node.depth})')\n",
    "        for child in node.children:\n",
    "            self._print_node(child, indent + 1)\n",
    "\n",
    "def build_index_from_url(url):\n",
    "    index_tree = LinkTree(url, max_depth = 1)\n",
    "    index_tree.build_tree()\n",
    "    return index_tree"
   ]
  },
  {
   "cell_type": "code",
   "execution_count": null,
   "metadata": {},
   "outputs": [],
   "source": []
  },
  {
   "cell_type": "code",
   "execution_count": null,
   "metadata": {},
   "outputs": [
    {
     "ename": "NameError",
     "evalue": "name 'build_index_from_url' is not defined",
     "output_type": "error",
     "traceback": [
      "\u001b[1;31m---------------------------------------------------------------------------\u001b[0m",
      "\u001b[1;31mNameError\u001b[0m                                 Traceback (most recent call last)",
      "Cell \u001b[1;32mIn[3], line 1\u001b[0m\n\u001b[1;32m----> 1\u001b[0m \u001b[43mbuild_index_from_url\u001b[49m(\u001b[38;5;124m\"\u001b[39m\u001b[38;5;124mhttps://en.wikipedia.org/wiki/brazil\u001b[39m\u001b[38;5;124m\"\u001b[39m)\u001b[38;5;241m.\u001b[39mprint_tree()\n",
      "\u001b[1;31mNameError\u001b[0m: name 'build_index_from_url' is not defined"
     ]
    }
   ],
   "source": [
    "build_index_from_url(\"https://en.wikipedia.org/wiki/brazil\").print_tree()"
   ]
  },
  {
   "cell_type": "code",
   "execution_count": null,
   "metadata": {},
   "outputs": [],
   "source": []
  }
 ],
 "metadata": {
  "kernelspec": {
   "display_name": ".venv",
   "language": "python",
   "name": "python3"
  },
  "language_info": {
   "codemirror_mode": {
    "name": "ipython",
    "version": 3
   },
   "file_extension": ".py",
   "mimetype": "text/x-python",
   "name": "python",
   "nbconvert_exporter": "python",
   "pygments_lexer": "ipython3",
   "version": "3.12.4"
  }
 },
 "nbformat": 4,
 "nbformat_minor": 2
}
