{
 "cells": [
  {
   "cell_type": "code",
   "execution_count": 1,
   "metadata": {},
   "outputs": [],
   "source": [
    "from src.indexing import build_index_from_url, build_chunks_from_tree\n",
    "import time\n",
    "import os\n",
    "import faiss\n",
    "import numpy as np\n",
    "from sentence_transformers import SentenceTransformer"
   ]
  },
  {
   "cell_type": "code",
   "execution_count": 5,
   "metadata": {},
   "outputs": [],
   "source": [
    "tree = await build_index_from_url(\"https://en.wikipedia.org/wiki/peru\", 1)"
   ]
  },
  {
   "cell_type": "code",
   "execution_count": 6,
   "metadata": {},
   "outputs": [],
   "source": [
    "chunks = build_chunks_from_tree(tree)"
   ]
  },
  {
   "cell_type": "code",
   "execution_count": null,
   "metadata": {},
   "outputs": [],
   "source": [
    "class EmbeddingManager:\n",
    "    def __init__(self, model_name='all-MiniLM-L6-v2', model_dir='data/models', index_dir='data/faiss_index'):\n",
    "        self.model_name = model_name\n",
    "        self.model_dir = model_dir\n",
    "        self.index_dir = index_dir\n",
    "        self.model = None\n",
    "        self.index = None\n",
    "\n",
    "        # Create directories if they don't exist\n",
    "        os.makedirs(self.model_dir, exist_ok=True)\n",
    "        os.makedirs(self.index_dir, exist_ok=True)\n",
    "\n",
    "    def load_or_download_model(self):\n",
    "        \"\"\"Load model from local directory or download if not exists\"\"\"\n",
    "        model_path = os.path.join(self.model_dir, self.model_name)\n",
    "        \n",
    "        if os.path.exists(model_path):\n",
    "            print(\"Loading model from local directory...\")\n",
    "            self.model = SentenceTransformer(model_path)\n",
    "        else:\n",
    "            print(\"Downloading model...\")\n",
    "            self.model = SentenceTransformer(self.model_name)\n",
    "            self.model.save(model_path)\n",
    "        return self.model\n",
    "\n",
    "    def generate_embeddings(self, chunks):\n",
    "        \"\"\"Convert text chunks to embeddings\"\"\"\n",
    "        if not self.model:\n",
    "            self.load_or_download_model()\n",
    "            \n",
    "        print(\"Generating embeddings...\")\n",
    "        return self.model.encode(chunks, convert_to_numpy=True)\n",
    "\n",
    "    def create_faiss_index(self, embeddings):\n",
    "        \"\"\"Create and save FAISS index\"\"\"\n",
    "        # Convert embeddings to float32 numpy array\n",
    "        embeddings = np.array(embeddings).astype('float32')\n",
    "        \n",
    "        # Create FAISS index\n",
    "        dimension = embeddings.shape[1]\n",
    "        \n",
    "        self.index = faiss.IndexScalarQuantizerL2(dimension)\n",
    "        self.index.add(embeddings)\n",
    "        \n",
    "        print(f\"Created FAISS index with {self.index.ntotal} vectors\")\n",
    "        return self.index\n",
    "\n",
    "    def save_faiss_index(self, index_name='my_index'):\n",
    "        \"\"\"Save FAISS index to disk\"\"\"\n",
    "        if self.index is None:\n",
    "            raise ValueError(\"Index not initialized. Create index first.\")\n",
    "            \n",
    "        index_path = os.path.join(self.index_dir, f\"{index_name}.index\")\n",
    "        faiss.write_index(self.index, index_path)\n",
    "        print(f\"Index saved to {index_path}\")\n",
    "\n",
    "    def load_faiss_index(self, index_name='my_index'):\n",
    "        \"\"\"Load FAISS index from disk\"\"\"\n",
    "        index_path = os.path.join(self.index_dir, f\"{index_name}.index\")\n",
    "        if not os.path.exists(index_path):\n",
    "            raise FileNotFoundError(f\"No index found at {index_path}\")\n",
    "            \n",
    "        self.index = faiss.read_index(index_path)\n",
    "        print(f\"Loaded index with {self.index.ntotal} vectors\")\n",
    "        return self.index\n",
    "\n"
   ]
  },
  {
   "cell_type": "code",
   "execution_count": null,
   "metadata": {},
   "outputs": [],
   "source": [
    "# Usage example\n",
    "if __name__ == \"__main__\":\n",
    "    # Initialize manager\n",
    "    em = EmbeddingManager()\n",
    "    \n",
    "    # Example chunks (replace with your actual text chunks)\n",
    "    chunks = [\n",
    "        \"This is the first text chunk\",\n",
    "        \"Here's another piece of text\",\n",
    "        \"Finally, a third example chunk\"\n",
    "    ]\n",
    "    \n",
    "    # Generate embeddings\n",
    "    embeddings = em.generate_embeddings(chunks)\n",
    "    \n",
    "    # Create and save FAISS index\n",
    "    em.create_faiss_index(embeddings)\n",
    "    em.save_faiss_index()\n",
    "    \n",
    "    # Later, to load everything:\n",
    "    em.load_or_download_model()\n",
    "    em.load_faiss_index()"
   ]
  }
 ],
 "metadata": {
  "kernelspec": {
   "display_name": ".venv",
   "language": "python",
   "name": "python3"
  },
  "language_info": {
   "codemirror_mode": {
    "name": "ipython",
    "version": 3
   },
   "file_extension": ".py",
   "mimetype": "text/x-python",
   "name": "python",
   "nbconvert_exporter": "python",
   "pygments_lexer": "ipython3",
   "version": "3.12.4"
  }
 },
 "nbformat": 4,
 "nbformat_minor": 2
}
