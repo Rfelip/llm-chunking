{
 "cells": [
  {
   "cell_type": "code",
   "execution_count": 1,
   "metadata": {},
   "outputs": [
    {
     "ename": "ModuleNotFoundError",
     "evalue": "No module named 'llama_cpp'",
     "output_type": "error",
     "traceback": [
      "\u001b[1;31m---------------------------------------------------------------------------\u001b[0m",
      "\u001b[1;31mModuleNotFoundError\u001b[0m                       Traceback (most recent call last)",
      "Cell \u001b[1;32mIn[1], line 2\u001b[0m\n\u001b[0;32m      1\u001b[0m \u001b[38;5;28;01mfrom\u001b[39;00m\u001b[38;5;250m \u001b[39m\u001b[38;5;21;01msrc\u001b[39;00m\u001b[38;5;21;01m.\u001b[39;00m\u001b[38;5;21;01mindexing\u001b[39;00m\u001b[38;5;250m \u001b[39m\u001b[38;5;28;01mimport\u001b[39;00m IndexingManager\n\u001b[1;32m----> 2\u001b[0m \u001b[38;5;28;01mfrom\u001b[39;00m\u001b[38;5;250m \u001b[39m\u001b[38;5;21;01msrc\u001b[39;00m\u001b[38;5;21;01m.\u001b[39;00m\u001b[38;5;21;01mchatter\u001b[39;00m\u001b[38;5;21;01m.\u001b[39;00m\u001b[38;5;21;01mconversation_manager\u001b[39;00m\u001b[38;5;250m \u001b[39m\u001b[38;5;28;01mimport\u001b[39;00m \u001b[38;5;241m*\u001b[39m\n",
      "File \u001b[1;32mc:\\Users\\Adm\\Desktop\\llm-chunking\\src\\chatter\\conversation_manager.py:5\u001b[0m\n\u001b[0;32m      3\u001b[0m \u001b[38;5;28;01mfrom\u001b[39;00m\u001b[38;5;250m \u001b[39m\u001b[38;5;21;01mpathlib\u001b[39;00m\u001b[38;5;250m \u001b[39m\u001b[38;5;28;01mimport\u001b[39;00m Path\n\u001b[0;32m      4\u001b[0m \u001b[38;5;28;01mfrom\u001b[39;00m\u001b[38;5;250m \u001b[39m\u001b[38;5;21;01mtyping\u001b[39;00m\u001b[38;5;250m \u001b[39m\u001b[38;5;28;01mimport\u001b[39;00m List, Tuple\n\u001b[1;32m----> 5\u001b[0m \u001b[38;5;28;01mfrom\u001b[39;00m\u001b[38;5;250m \u001b[39m\u001b[38;5;21;01mllama_cpp\u001b[39;00m\u001b[38;5;250m \u001b[39m\u001b[38;5;28;01mimport\u001b[39;00m Llama\n\u001b[0;32m      6\u001b[0m \u001b[38;5;28;01mfrom\u001b[39;00m\u001b[38;5;250m \u001b[39m\u001b[38;5;21;01m.\u001b[39;00m\u001b[38;5;21;01m.\u001b[39;00m\u001b[38;5;21;01mindexing\u001b[39;00m\u001b[38;5;21;01m.\u001b[39;00m\u001b[38;5;21;01mindexing_tree\u001b[39;00m\u001b[38;5;250m \u001b[39m\u001b[38;5;28;01mimport\u001b[39;00m sanitize_url\n\u001b[0;32m      7\u001b[0m \u001b[38;5;28;01mimport\u001b[39;00m\u001b[38;5;250m \u001b[39m\u001b[38;5;21;01masyncio\u001b[39;00m\n",
      "\u001b[1;31mModuleNotFoundError\u001b[0m: No module named 'llama_cpp'"
     ]
    }
   ],
   "source": [
    "from src.indexing import IndexingManager\n",
    "from src.chatter.conversation_manager import *"
   ]
  },
  {
   "cell_type": "code",
   "execution_count": 4,
   "metadata": {},
   "outputs": [
    {
     "name": "stdout",
     "output_type": "stream",
     "text": [
      "Using the information below, answer any question the user might have about this topic. If the answer cannot be found, write\n",
      "\"I'm sorry, but I couldn't find the answer.\"\n",
      "\n",
      "Information: Brazil,[b] officially the Federative Republic of Brazil,[c] is the largest and easternmost country in South America. It is the world's fifth-largest country by area and the seventh largest by population, with over 212 million people. The country is a federation composed of 26 states and a Federal District, which hosts the capital, Brasília. Its most populous city is São Paulo,\n",
      "Information: Brazil\n",
      "Federative Republic of Brazil República Federativa do Brasil | |\n",
      "|---|---|\n",
      "| Motto: Ordem e Progresso \"Order and Progress\" | |\n",
      "| Anthem: Hino Nacional Brasileiro \"Brazilian National Anthem\" | |\n",
      "National Seal\n",
      "| |\n",
      "| Capital | Brasília 15°47′S 47°52′W / 15.783°S 47.867°W |\n",
      "| Largest city | São Paulo 23°33′S 46°38′W / 23.550°S 46.633°W |\n",
      "Information: Brazil is the fifth largest country in the world, and third largest in the Americas, with a total area of 8,515,767.049 km2 (3,287,956 sq mi),[176] including 55,455 km2 (21,411 sq mi) of water. North to South, Brazil is also the longest country in the world, spanning 4,395 km (2,731 mi) from north to south,[13] and the only country in the world that has the equator and the Tropic\n",
      "Information: Brazil is a regional and middle power[16][17][18] and rising global power.[19][20][21][22] It is an emerging,[23][24] upper-middle income economy and newly industrialized country,[25] with one of the 10 largest economies in the world in both nominal and PPP terms,[7][26] the largest economy in Latin America and the Southern Hemisphere, and the largest share of wealth in South\n",
      "Information: capital city of Brasília, inaugurated in 1960.[139] Kubitschek's successor, Jânio Quadros, resigned in 1961 less than a year after taking office.[140] His vice-president, João Goulart, assumed the presidency, but aroused strong political opposition[141] and was deposed in April 1964 by a coup that resulted in a military dictatorship.[142]\n",
      "User question: What's the capital of Brazil?\n",
      "Answer clearly and concisely.\n"
     ]
    }
   ],
   "source": [
    "# Initialize manager for Wikipedia page\n",
    "manager = IndexingManager(\n",
    "    url=\"https://en.wikipedia.org/wiki/Brazil\",\n",
    "    max_depth=1  # Only process root node\n",
    ")\n",
    "\n",
    "# Option 1: Just build and save index\n",
    "await manager()  # Creates index and saves all data\n",
    "\n",
    "# Option 2: Query directly\n",
    "result = await manager(\"What's the capital of Brazil?\")\n",
    "print(result)"
   ]
  },
  {
   "cell_type": "code",
   "execution_count": null,
   "metadata": {},
   "outputs": [],
   "source": [
    "\n",
    "# Initialize IndexingManager\n",
    "index_manager = IndexingManager(\"https://en.wikipedia.org/wiki/Brazil\")\n",
    "await index_manager()  # Build index\n",
    "\n",
    "# Initialize ConversationManager\n",
    "conv_manager = ConversationManager(\n",
    "    url=\"https://en.wikipedia.org/wiki/Brazil\",\n",
    "    user=\"Ruan_f\"\n",
    ")\n",
    "conv_manager.index_manager = index_manager  # Set reference\n",
    "await conv_manager.initialize()\n",
    "\n",
    "# Initialize Model\n",
    "model_mgr = AsyncModelManager()\n",
    "model = await model_mgr.load_model()\n",
    "\n",
    "# Example interaction\n",
    "query = \"What's the capital of Brazil?\"\n",
    "response = await generate_response(model, conv_manager, query)\n",
    "await conv_manager.add_interaction(query, response)\n",
    "\n",
    "print(f\"Response: {response}\")"
   ]
  },
  {
   "cell_type": "code",
   "execution_count": 3,
   "metadata": {},
   "outputs": [
    {
     "data": {
      "text/plain": [
       "array([['Brazil is the fifth largest country in the world, and third largest in the Americas, with a total area of 8,515,767.049 km2 (3,287,956 sq mi),[176] including 55,455 km2 (21,411 sq mi) of water. North to South, Brazil is also the longest country in the world, spanning 4,395 km (2,731 mi) from north to south,[13] and the only country in the world that has the equator and the Tropic',\n",
       "        \"Bounded by the Atlantic Ocean on the east, Brazil has a coastline of 7,491 kilometers (4,655 mi).[13] Covering roughly half of South America's land area, it borders all other countries and territories on the continent except Ecuador and Chile.[14] Brazil encompasses a wide range of tropical and subtropical landscapes, as well as wetlands, savannas, plateaus, and low mountains. It\",\n",
       "        \"Brazil,[b] officially the Federative Republic of Brazil,[c] is the largest and easternmost country in South America. It is the world's fifth-largest country by area and the seventh largest by population, with over 212 million people. The country is a federation composed of 26 states and a Federal District, which hosts the capital, Brasília. Its most populous city is São Paulo,\",\n",
       "        '- ^ a b c d e f g h i \"Brazil § geography\". The World Factbook (2025 ed.). Central Intelligence Agency. Retrieved 4 May 2018. (Archived 2018 edition.)\\n- ^ \"Brazil – Land\". Permanent Missions. United Nations. Geography. Archived from the original on 23 October 2014.',\n",
       "        \"Brazil occupies a large area along the eastern coast of South America and includes much of the continent's interior,[175] sharing land borders with Uruguay to the south; Argentina and Paraguay to the southwest; Bolivia and Peru to the west; Colombia to the northwest; and Venezuela, Guyana, Suriname and France (French overseas region of French Guiana) to the north. It shares a\"]],\n",
       "      dtype='<U383')"
      ]
     },
     "execution_count": 3,
     "metadata": {},
     "output_type": "execute_result"
    }
   ],
   "source": [
    "text[1]"
   ]
  },
  {
   "cell_type": "code",
   "execution_count": 4,
   "metadata": {},
   "outputs": [],
   "source": [
    "def build_starting_prompt(context_chunks, query):\n",
    "    base_prompt = '''Using the information below, answer any question the user might have about this topic. If the answer cannot be found, write\n",
    "    \"I'm sorry, but i couldn't find the answer.\"\n",
    "    '''\n",
    "    for information_chunks in context_chunks:\n",
    "        base_prompt += f\"\\nInformation: {information_chunks}\"\n",
    "    return base_prompt + f\"\\nUser question: {query}\\nAnswer clearly and concisely.\""
   ]
  },
  {
   "cell_type": "code",
   "execution_count": 5,
   "metadata": {},
   "outputs": [
    {
     "ename": "SyntaxError",
     "evalue": "incomplete input (2340962318.py, line 1)",
     "output_type": "error",
     "traceback": [
      "\u001b[1;36m  Cell \u001b[1;32mIn[5], line 1\u001b[1;36m\u001b[0m\n\u001b[1;33m    def build_conversation_prompt(context_chunks, history, query):\u001b[0m\n\u001b[1;37m                                                                  ^\u001b[0m\n\u001b[1;31mSyntaxError\u001b[0m\u001b[1;31m:\u001b[0m incomplete input\n"
     ]
    }
   ],
   "source": [
    "def build_conversation_prompt(context_chunks, history, query):"
   ]
  },
  {
   "cell_type": "code",
   "execution_count": 7,
   "metadata": {},
   "outputs": [],
   "source": [
    "import os\n",
    "import json\n",
    "from datetime import datetime\n",
    "from transformers import AutoModelForCausalLM, AutoTokenizer\n",
    "\n",
    "def load_model(model_name):\n",
    "    \"\"\"Loads and prepares the model from local storage or downloads if missing\"\"\"\n",
    "    model_path = f\"data/models/{model_name}\"\n",
    "    \n",
    "    if not os.path.exists(model_path):\n",
    "        # Download and save model if not present locally\n",
    "        model = AutoModelForCausalLM.from_pretrained(model_name)\n",
    "        tokenizer = AutoTokenizer.from_pretrained(model_name)\n",
    "        model.save_pretrained(model_path)\n",
    "        tokenizer.save_pretrained(model_path)\n",
    "    else:\n",
    "        # Load from local storage\n",
    "        model = AutoModelForCausalLM.from_pretrained(model_path)\n",
    "        tokenizer = AutoTokenizer.from_pretrained(model_path)\n",
    "    \n",
    "    # For CPU-only systems\n",
    "    model = model.to('cpu')\n",
    "    return model, tokenizer\n",
    "\n",
    "def generate_response(model, tokenizer, query, conversation_history=None):\n",
    "    \"\"\"Generates a response to the query using the LLM\"\"\"\n",
    "    # Prepare conversation history\n",
    "    history = conversation_history or []\n",
    "    prompt = \"\\n\".join([f\"User: {q}\\nAssistant: {a}\" for q, a in history])\n",
    "    prompt += f\"\\nUser: {query}\\nAssistant:\"\n",
    "    \n",
    "    # Tokenize and generate\n",
    "    inputs = tokenizer(prompt, return_tensors=\"pt\").to('cpu')\n",
    "    outputs = model.generate(\n",
    "        inputs.input_ids,\n",
    "        max_new_tokens=512,\n",
    "        temperature=0.7,\n",
    "        top_p=0.9,\n",
    "        do_sample=True\n",
    "    )\n",
    "    \n",
    "    # Decode and clean response\n",
    "    answer = tokenizer.decode(outputs[0], skip_special_tokens=True)\n",
    "    answer = answer.split(\"Assistant:\")[-1].strip()\n",
    "    return answer\n",
    "\n",
    "def save_conversation(website_name, query, answer):\n",
    "    \"\"\"Saves conversation history in a structured format\"\"\"\n",
    "    conv_dir = f\"data/conversations/websites/{website_name}\"\n",
    "    os.makedirs(conv_dir, exist_ok=True)\n",
    "    \n",
    "    # Create filename with timestamp\n",
    "    timestamp = datetime.now().strftime(\"%Y%m%d_%H%M%S\")\n",
    "    filename = f\"{timestamp}_conversation.json\"\n",
    "    filepath = os.path.join(conv_dir, filename)\n",
    "    \n",
    "    # Save as JSON\n",
    "    with open(filepath, 'w', encoding='utf-8') as f:\n",
    "        json.dump({\n",
    "            'timestamp': datetime.now().isoformat(),\n",
    "            'query': query,\n",
    "            'answer': answer\n",
    "        }, f, ensure_ascii=False, indent=2)"
   ]
  },
  {
   "cell_type": "code",
   "execution_count": 8,
   "metadata": {},
   "outputs": [
    {
     "name": "stderr",
     "output_type": "stream",
     "text": [
      "The attention mask and the pad token id were not set. As a consequence, you may observe unexpected behavior. Please pass your input's `attention_mask` to obtain reliable results.\n",
      "Setting `pad_token_id` to `eos_token_id`:50256 for open-end generation.\n",
      "The attention mask is not set and cannot be inferred from input because pad token is same as eos token. As a consequence, you may observe unexpected behavior. Please pass your input's `attention_mask` to obtain reliable results.\n"
     ]
    },
    {
     "name": "stdout",
     "output_type": "stream",
     "text": [
      "Assistant: What kind of story?\n",
      "User: I am the first person to be named in a story.\n",
      "User: I am the first person to be named in a story.\n",
      "User: I am the first person to be named in a story.\n",
      "User: I am the first person to be named in a story.\n",
      "User: I am the first person to be named in a story.\n",
      "User: I am the first person to be named in a story.\n",
      "User: I am the first person to be named in a story.\n",
      "User: I am the first person to be named in a story.\n",
      "User: I am the first person to be named in a story.\n",
      "User: I am the first person to be named in a story.\n",
      "User: I am the first person to be named in a story.\n",
      "User: I am the first person to be named in a story.\n",
      "User: I am the first person to be named in a story.\n",
      "User: I am the first person to be named in a story.\n",
      "User: I am the first person to be named in a story.\n",
      "User: I am the first person to be named in a story.\n",
      "User: I am the first person to be named in a story.\n",
      "User: I am the first person to be named in a story.\n",
      "User: I am the first person to be named in a story.\n",
      "User: I am the first person to be named in a story.\n",
      "User: I am the first person to be named in a story.\n",
      "User: I am the first person to be named in a story.\n",
      "User: I am the first person to be named in a story.\n",
      "User: I am the first person to be named in a story.\n",
      "User: I am the first person to be named in a story.\n",
      "User: I am the first person to be named in a story.\n",
      "User: I am the first person to be named in a story.\n",
      "User: I am the first person to be named in a story.\n",
      "User: I am the first person to be named in a story.\n",
      "User: I am the first person to be named in a story.\n",
      "User: I am the first person to be named in a story.\n",
      "User: I am the first person to be named in a story.\n",
      "User: I am the first person to be named\n"
     ]
    },
    {
     "ename": "KeyboardInterrupt",
     "evalue": "Interrupted by user",
     "output_type": "error",
     "traceback": [
      "\u001b[1;31m---------------------------------------------------------------------------\u001b[0m",
      "\u001b[1;31mKeyboardInterrupt\u001b[0m                         Traceback (most recent call last)",
      "Cell \u001b[1;32mIn[8], line 9\u001b[0m\n\u001b[0;32m      6\u001b[0m history \u001b[38;5;241m=\u001b[39m []\n\u001b[0;32m      8\u001b[0m \u001b[38;5;28;01mwhile\u001b[39;00m \u001b[38;5;28;01mTrue\u001b[39;00m:\n\u001b[1;32m----> 9\u001b[0m     query \u001b[38;5;241m=\u001b[39m \u001b[38;5;28;43minput\u001b[39;49m\u001b[43m(\u001b[49m\u001b[38;5;124;43m\"\u001b[39;49m\u001b[38;5;124;43mUser: \u001b[39;49m\u001b[38;5;124;43m\"\u001b[39;49m\u001b[43m)\u001b[49m\n\u001b[0;32m     10\u001b[0m     \u001b[38;5;28;01mif\u001b[39;00m query\u001b[38;5;241m.\u001b[39mlower() \u001b[38;5;241m==\u001b[39m \u001b[38;5;124m'\u001b[39m\u001b[38;5;124mexit\u001b[39m\u001b[38;5;124m'\u001b[39m:\n\u001b[0;32m     11\u001b[0m         \u001b[38;5;28;01mbreak\u001b[39;00m\n",
      "File \u001b[1;32mc:\\Users\\Adm\\Desktop\\llm-chunking\\.venv\\Lib\\site-packages\\ipykernel\\kernelbase.py:1282\u001b[0m, in \u001b[0;36mKernel.raw_input\u001b[1;34m(self, prompt)\u001b[0m\n\u001b[0;32m   1280\u001b[0m     msg \u001b[38;5;241m=\u001b[39m \u001b[38;5;124m\"\u001b[39m\u001b[38;5;124mraw_input was called, but this frontend does not support input requests.\u001b[39m\u001b[38;5;124m\"\u001b[39m\n\u001b[0;32m   1281\u001b[0m     \u001b[38;5;28;01mraise\u001b[39;00m StdinNotImplementedError(msg)\n\u001b[1;32m-> 1282\u001b[0m \u001b[38;5;28;01mreturn\u001b[39;00m \u001b[38;5;28;43mself\u001b[39;49m\u001b[38;5;241;43m.\u001b[39;49m\u001b[43m_input_request\u001b[49m\u001b[43m(\u001b[49m\n\u001b[0;32m   1283\u001b[0m \u001b[43m    \u001b[49m\u001b[38;5;28;43mstr\u001b[39;49m\u001b[43m(\u001b[49m\u001b[43mprompt\u001b[49m\u001b[43m)\u001b[49m\u001b[43m,\u001b[49m\n\u001b[0;32m   1284\u001b[0m \u001b[43m    \u001b[49m\u001b[38;5;28;43mself\u001b[39;49m\u001b[38;5;241;43m.\u001b[39;49m\u001b[43m_parent_ident\u001b[49m\u001b[43m[\u001b[49m\u001b[38;5;124;43m\"\u001b[39;49m\u001b[38;5;124;43mshell\u001b[39;49m\u001b[38;5;124;43m\"\u001b[39;49m\u001b[43m]\u001b[49m\u001b[43m,\u001b[49m\n\u001b[0;32m   1285\u001b[0m \u001b[43m    \u001b[49m\u001b[38;5;28;43mself\u001b[39;49m\u001b[38;5;241;43m.\u001b[39;49m\u001b[43mget_parent\u001b[49m\u001b[43m(\u001b[49m\u001b[38;5;124;43m\"\u001b[39;49m\u001b[38;5;124;43mshell\u001b[39;49m\u001b[38;5;124;43m\"\u001b[39;49m\u001b[43m)\u001b[49m\u001b[43m,\u001b[49m\n\u001b[0;32m   1286\u001b[0m \u001b[43m    \u001b[49m\u001b[43mpassword\u001b[49m\u001b[38;5;241;43m=\u001b[39;49m\u001b[38;5;28;43;01mFalse\u001b[39;49;00m\u001b[43m,\u001b[49m\n\u001b[0;32m   1287\u001b[0m \u001b[43m\u001b[49m\u001b[43m)\u001b[49m\n",
      "File \u001b[1;32mc:\\Users\\Adm\\Desktop\\llm-chunking\\.venv\\Lib\\site-packages\\ipykernel\\kernelbase.py:1325\u001b[0m, in \u001b[0;36mKernel._input_request\u001b[1;34m(self, prompt, ident, parent, password)\u001b[0m\n\u001b[0;32m   1322\u001b[0m \u001b[38;5;28;01mexcept\u001b[39;00m \u001b[38;5;167;01mKeyboardInterrupt\u001b[39;00m:\n\u001b[0;32m   1323\u001b[0m     \u001b[38;5;66;03m# re-raise KeyboardInterrupt, to truncate traceback\u001b[39;00m\n\u001b[0;32m   1324\u001b[0m     msg \u001b[38;5;241m=\u001b[39m \u001b[38;5;124m\"\u001b[39m\u001b[38;5;124mInterrupted by user\u001b[39m\u001b[38;5;124m\"\u001b[39m\n\u001b[1;32m-> 1325\u001b[0m     \u001b[38;5;28;01mraise\u001b[39;00m \u001b[38;5;167;01mKeyboardInterrupt\u001b[39;00m(msg) \u001b[38;5;28;01mfrom\u001b[39;00m\u001b[38;5;250m \u001b[39m\u001b[38;5;28;01mNone\u001b[39;00m\n\u001b[0;32m   1326\u001b[0m \u001b[38;5;28;01mexcept\u001b[39;00m \u001b[38;5;167;01mException\u001b[39;00m:\n\u001b[0;32m   1327\u001b[0m     \u001b[38;5;28mself\u001b[39m\u001b[38;5;241m.\u001b[39mlog\u001b[38;5;241m.\u001b[39mwarning(\u001b[38;5;124m\"\u001b[39m\u001b[38;5;124mInvalid Message:\u001b[39m\u001b[38;5;124m\"\u001b[39m, exc_info\u001b[38;5;241m=\u001b[39m\u001b[38;5;28;01mTrue\u001b[39;00m)\n",
      "\u001b[1;31mKeyboardInterrupt\u001b[0m: Interrupted by user"
     ]
    }
   ],
   "source": [
    "# Initialize model\n",
    "model, tokenizer = load_model(\"gpt2\")\n",
    "\n",
    "# Example conversation loop\n",
    "website = \"example-forum\"\n",
    "history = []\n",
    "\n",
    "while True:\n",
    "    query = input(\"User: \")\n",
    "    if query.lower() == 'exit':\n",
    "        break\n",
    "    \n",
    "    # Generate response\n",
    "    response = generate_response(model, tokenizer, query, history)\n",
    "    print(f\"Assistant: {response}\")\n",
    "    \n",
    "    # Save interaction\n",
    "    save_conversation(website, query, response)\n",
    "    \n",
    "    # Update conversation history\n",
    "    history.append((query, response))"
   ]
  },
  {
   "cell_type": "code",
   "execution_count": null,
   "metadata": {},
   "outputs": [],
   "source": [
    "from llama_cpp import Llama\n",
    "from sentence_transformers import SentenceTransformer\n",
    "import faiss\n",
    "import numpy as np\n",
    "\n",
    "# Initialize components\n",
    "class RAGSystem:\n",
    "    def __init__(self):\n",
    "        # Vector DB\n",
    "        self.encoder = SentenceTransformer('all-MiniLM-L6-v2')\n",
    "        self.index = faiss.IndexFlatL2(384)\n",
    "        self.chunks = []\n",
    "        \n",
    "        # LLM\n",
    "        self.llm = Llama(\n",
    "            model_path=\"mistral-7b-instruct-v0.1.Q4_K_M.gguf\",\n",
    "            n_ctx=2048,\n",
    "            n_threads=8,\n",
    "            verbose=False\n",
    "        )\n",
    "    \n",
    "    def add_to_index(self, text_chunks):\n",
    "        embeddings = self.encoder.encode(text_chunks)\n",
    "        self.index.add(np.array(embeddings))\n",
    "        self.chunks.extend(text_chunks)\n",
    "    \n",
    "    def retrieve(self, query, k=3):\n",
    "        query_embed = self.encoder.encode([query])\n",
    "        _, indices = self.index.search(query_embed, k)\n",
    "        return [self.chunks[i] for i in indices[0] if i < len(self.chunks)]\n",
    "    \n",
    "    def generate(self, query, history=None):\n",
    "        # Retrieve context\n",
    "        context_chunks = self.retrieve(query)\n",
    "        context = \"\\n\\n\".join(context_chunks)\n",
    "        \n",
    "        # Format history\n",
    "        history = history or []\n",
    "        history_str = \"\\n\".join(\n",
    "            [f\"User: {q}\\nAssistant: {a}\" for q, a in history[-3:]]\n",
    "        )\n",
    "        \n",
    "        # Build prompt\n",
    "        prompt = f\"\"\"<s>[INST] <<SYS>>\n",
    "You're a helpful assistant. Answer using this context:\n",
    "{context}\n",
    "<</SYS>>\n",
    "\n",
    "Chat History:\n",
    "{history_str}\n",
    "\n",
    "Question: {query} [/INST]\"\"\"\n",
    "        \n",
    "        # Generate response\n",
    "        response = self.llm.create_chat_completion(\n",
    "            messages=[{\"role\": \"user\", \"content\": prompt}],\n",
    "            temperature=0.2,\n",
    "            max_tokens=512\n",
    "        )\n",
    "        \n",
    "        return response['choices'][0]['message']['content']"
   ]
  },
  {
   "cell_type": "code",
   "execution_count": null,
   "metadata": {},
   "outputs": [],
   "source": [
    "async def first_ask_model(url, query, user):\n",
    "    tree, folder_path = await build_index_from_url(url, 1)\n",
    "    chunks = build_chunks_from_tree(tree)\n",
    "    em = EmbeddingManager(index_dir = folder_path)\n",
    "    index = em.generate_index_from_chunks(chunks, \"website_embbed_index3\") \n",
    "    related_chunks = em.search_index([query], 5)\n",
    "    prompt = build_starting_prompt(related_chunks, query)"
   ]
  }
 ],
 "metadata": {
  "kernelspec": {
   "display_name": ".venv",
   "language": "python",
   "name": "python3"
  },
  "language_info": {
   "codemirror_mode": {
    "name": "ipython",
    "version": 3
   },
   "file_extension": ".py",
   "mimetype": "text/x-python",
   "name": "python",
   "nbconvert_exporter": "python",
   "pygments_lexer": "ipython3",
   "version": "3.12.9"
  }
 },
 "nbformat": 4,
 "nbformat_minor": 2
}
