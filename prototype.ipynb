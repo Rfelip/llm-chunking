{
 "cells": [
  {
   "cell_type": "code",
   "execution_count": 1,
   "metadata": {},
   "outputs": [],
   "source": [
    "from src.indexing import IndexingManager\n",
    "from src.chatter.conversation_manager import *"
   ]
  },
  {
   "cell_type": "code",
   "execution_count": null,
   "metadata": {},
   "outputs": [
    {
     "name": "stdout",
     "output_type": "stream",
     "text": [
      "Loaded index with 622 vectors\n"
     ]
    },
    {
     "name": "stderr",
     "output_type": "stream",
     "text": [
      "llama_new_context_with_model: n_ctx_per_seq (2048) < n_ctx_train (32768) -- the full capacity of the model will not be utilized\n"
     ]
    }
   ],
   "source": [
    "\n",
    "# Initialize IndexingManager\n",
    "index_manager = IndexingManager(\"https://en.wikipedia.org/wiki/Brazil\")\n",
    "await index_manager()  # Build index\n",
    "\n",
    "# Initialize ConversationManager\n",
    "conv_manager = ConversationManager(\n",
    "    url=\"https://en.wikipedia.org/wiki/Brazil\",\n",
    "    user=\"Ruan_f\"\n",
    ")\n",
    "conv_manager.index_manager = index_manager  # Set reference\n",
    "await conv_manager.initialize()\n",
    "\n",
    "# Initialize Model\n",
    "model_mgr = AsyncModelManager()\n",
    "model = await model_mgr.load_model()\n",
    "\n",
    "# Example interaction\n",
    "query = \"What's the capital of Brazil?\"\n",
    "response = await generate_response(model, conv_manager, query, use_history=False)\n",
    "await conv_manager.add_interaction(query, response)\n",
    "\n",
    "print(f\"Response: {response}\")"
   ]
  },
  {
   "cell_type": "code",
   "execution_count": 3,
   "metadata": {},
   "outputs": [
    {
     "name": "stdout",
     "output_type": "stream",
     "text": [
      "Loading model from local directory or downloading it...\n",
      "Generating embeddings...\n"
     ]
    },
    {
     "name": "stdout",
     "output_type": "stream",
     "text": [
      "Generating answer to your question...\n",
      "Response:  The capital of Brazil is Brasília. It was inaugurated in 1960 and is located in the Federal District.\n"
     ]
    }
   ],
   "source": [
    "\n",
    "# Example interaction\n",
    "query = \"What's the capital of Brazil?\"\n",
    "response = await generate_response(model, conv_manager, query, use_history=False)\n",
    "await conv_manager.add_interaction(query, response)\n",
    "\n",
    "print(f\"Response: {response}\")"
   ]
  }
 ],
 "metadata": {
  "kernelspec": {
   "display_name": ".venv",
   "language": "python",
   "name": "python3"
  },
  "language_info": {
   "codemirror_mode": {
    "name": "ipython",
    "version": 3
   },
   "file_extension": ".py",
   "mimetype": "text/x-python",
   "name": "python",
   "nbconvert_exporter": "python",
   "pygments_lexer": "ipython3",
   "version": "3.12.9"
  }
 },
 "nbformat": 4,
 "nbformat_minor": 2
}
