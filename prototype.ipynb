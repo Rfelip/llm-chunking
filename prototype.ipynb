{
 "cells": [
  {
   "cell_type": "code",
   "execution_count": 1,
   "metadata": {},
   "outputs": [
    {
     "name": "stderr",
     "output_type": "stream",
     "text": [
      "[nltk_data] Downloading package punkt to ../../data/ntlk_data...\n",
      "[nltk_data]   Package punkt is already up-to-date!\n",
      "[nltk_data] Downloading package punkt_tab to ../../data/ntlk_data...\n",
      "[nltk_data]   Package punkt_tab is already up-to-date!\n"
     ]
    }
   ],
   "source": [
    "from src.indexing import build_index_from_url, build_chunks_from_tree\n",
    "import time\n",
    "import os\n",
    "import faiss\n",
    "import numpy as np\n",
    "from sentence_transformers import SentenceTransformer"
   ]
  },
  {
   "cell_type": "code",
   "execution_count": 2,
   "metadata": {},
   "outputs": [
    {
     "name": "stderr",
     "output_type": "stream",
     "text": [
      "Created a chunk of size 607, which is longer than the specified 512\n",
      "Created a chunk of size 660, which is longer than the specified 512\n"
     ]
    }
   ],
   "source": [
    "tree, folder_path = await build_index_from_url(\"https://en.wikipedia.org/wiki/peru\", 1)\n",
    "chunks = build_chunks_from_tree(tree)"
   ]
  },
  {
   "cell_type": "code",
   "execution_count": null,
   "metadata": {},
   "outputs": [
    {
     "name": "stderr",
     "output_type": "stream",
     "text": [
      "c:\\Users\\Ruan Felipe\\Desktop\\llm-chunking\\.venv\\Lib\\site-packages\\IPython\\core\\compilerop.py:86: RuntimeWarning: coroutine 'EmbeddingManager.generate_embeddings' was never awaited\n",
      "  return compile(source, filename, symbol, self.flags | PyCF_ONLY_AST, 1)\n",
      "RuntimeWarning: Enable tracemalloc to get the object allocation traceback\n"
     ]
    }
   ],
   "source": [
    "import os\n",
    "import numpy as np\n",
    "from langchain_huggingface import HuggingFaceEmbeddings\n",
    "import faiss\n",
    "\n",
    "class EmbeddingManager:\n",
    "    def __init__(self, model_name='all-MiniLM-L6-v2', model_dir='data/models', index_dir='data/faiss_index'):\n",
    "        self.model_name = model_name\n",
    "        self.model_dir = model_dir\n",
    "        self.index_dir = index_dir\n",
    "        self.model = None\n",
    "        self.index = None\n",
    "\n",
    "        os.makedirs(self.model_dir, exist_ok=True)\n",
    "        os.makedirs(self.index_dir, exist_ok=True)\n",
    "\n",
    "    def load_or_download_model(self):\n",
    "        \"\"\"Load model from local directory or download if not exists\"\"\"\n",
    "        model_path = os.path.join(self.model_dir, self.model_name)\n",
    "        \n",
    "        if os.path.exists(model_path):\n",
    "            print(\"Loading model from local directory...\")\n",
    "            self.model = HuggingFaceEmbeddings(cache_folder = model_path, model_name = self.model_name)\n",
    "        else:\n",
    "            print(\"Downloading model...\")\n",
    "            self.model = HuggingFaceEmbeddings(cache_folder = model_path, model_name = self.model_name)\n",
    "            self.model.save(model_path)\n",
    "        return self.model\n",
    "\n",
    "    async def generate_embeddings(self, chunks):\n",
    "        \"\"\"Convert text chunks to embeddings\"\"\"\n",
    "        if not self.model:\n",
    "            self.load_or_download_model()\n",
    "            \n",
    "        print(\"Generating embeddings...\")\n",
    "        return await self.model.aembed_documents(chunks)\n",
    "\n",
    "    def normalize_embeddings(self, embeddings):\n",
    "        \"\"\"Normalize embeddings to unit length\"\"\"\n",
    "        norms = np.linalg.norm(embeddings, axis=1, keepdims=True)\n",
    "        return embeddings / norms\n",
    "\n",
    "    def create_faiss_index(self, embeddings):\n",
    "        \"\"\"Create and save FAISS index\"\"\"\n",
    "        # Convert embeddings to float32 numpy array\n",
    "        embeddings = np.array(embeddings).astype('float32')\n",
    "        \n",
    "        # Normalize embeddings\n",
    "        embeddings = self.normalize_embeddings(embeddings)\n",
    "        \n",
    "        # Create FAISS index\n",
    "        dimension = embeddings.shape[1]\n",
    "        self.index = faiss.IndexFlatIP(dimension)\n",
    "        self.index.add(embeddings)\n",
    "        print(f\"Created FAISS index with {self.index.ntotal} vectors\")\n",
    "        return self.index\n",
    "\n",
    "    def save_faiss_index(self, index_name='my_index'):\n",
    "        \"\"\"Save FAISS index to disk\"\"\"\n",
    "        if self.index is None:\n",
    "            raise ValueError(\"Index not initialized. Create index first.\")\n",
    "            \n",
    "        index_path = os.path.join(self.index_dir, f\"{index_name}.index\")\n",
    "        faiss.write_index(self.index, index_path)\n",
    "        print(f\"Index saved to {index_path}\")\n",
    "\n",
    "    def load_faiss_index(self, index_name='my_index'):\n",
    "        \"\"\"Load FAISS index from disk\"\"\"\n",
    "        index_path = os.path.join(self.index_dir, f\"{index_name}.index\")\n",
    "        if not os.path.exists(index_path):\n",
    "            raise FileNotFoundError(f\"No index found at {index_path}\")\n",
    "            \n",
    "        self.index = faiss.read_index(index_path)\n",
    "        print(f\"Loaded index with {self.index.ntotal} vectors\")\n",
    "        return self.index\n",
    "\n",
    "    async def __call__(self, chunks=None, index_name):\n",
    "        \"\"\"Check for existing index, load if exists; else create from chunks and save.\"\"\"\n",
    "        index_path = os.path.join(self.index_dir, f\"{index_name}.index\")\n",
    "        if os.path.exists(index_path):\n",
    "            self.load_faiss_index(index_name)\n",
    "        else:\n",
    "            if chunks is None:\n",
    "                raise ValueError(\"Chunks must be provided to create a new index.\")\n",
    "            \n",
    "            text_chunks = [doc.page_content for doc in chunks]\n",
    "            embeddings = await self.generate_embeddings(text_chunks)\n",
    "            self.create_faiss_index(embeddings)\n",
    "            self.save_faiss_index(index_name)\n",
    "        return self.index"
   ]
  },
  {
   "cell_type": "code",
   "execution_count": 17,
   "metadata": {},
   "outputs": [
    {
     "data": {
      "text/plain": [
       "WindowsPath('data/websites/en.wikipedia.org_wiki_peru/index.jz')"
      ]
     },
     "execution_count": 17,
     "metadata": {},
     "output_type": "execute_result"
    }
   ],
   "source": [
    "folder_path / \"index.jz\""
   ]
  },
  {
   "cell_type": "code",
   "execution_count": null,
   "metadata": {},
   "outputs": [
    {
     "name": "stdout",
     "output_type": "stream",
     "text": [
      "Loading model from local directory...\n",
      "Generating embeddings...\n",
      "Created FAISS index with 337 vectors\n"
     ]
    },
    {
     "ename": "RuntimeError",
     "evalue": "Error in __cdecl faiss::FileIOWriter::FileIOWriter(const char *) at D:\\a\\faiss-wheels\\faiss-wheels\\faiss\\faiss\\impl\\io.cpp:102: Error: 'f' failed: could not open data\\websites\\en.wikipedia.org_wiki_peru\\data\\websites\\en.wikipedia.org_wiki_peru.index for writing: No such file or directory",
     "output_type": "error",
     "traceback": [
      "\u001b[1;31m---------------------------------------------------------------------------\u001b[0m",
      "\u001b[1;31mRuntimeError\u001b[0m                              Traceback (most recent call last)",
      "\u001b[1;32m~\\AppData\\Local\\Temp\\ipykernel_16856\\2151238077.py\u001b[0m in \u001b[0;36m?\u001b[1;34m()\u001b[0m\n\u001b[0;32m      1\u001b[0m \u001b[0mem\u001b[0m \u001b[1;33m=\u001b[0m \u001b[0mEmbeddingManager\u001b[0m\u001b[1;33m(\u001b[0m\u001b[0mindex_dir\u001b[0m \u001b[1;33m=\u001b[0m \u001b[0mfolder_path\u001b[0m  \u001b[1;33m)\u001b[0m\u001b[1;33m\u001b[0m\u001b[1;33m\u001b[0m\u001b[0m\n\u001b[0;32m      2\u001b[0m \u001b[1;31m# Generate embeddings\u001b[0m\u001b[1;33m\u001b[0m\u001b[1;33m\u001b[0m\u001b[0m\n\u001b[1;32m----> 3\u001b[1;33m \u001b[0mindex\u001b[0m \u001b[1;33m=\u001b[0m \u001b[1;32mawait\u001b[0m \u001b[0mem\u001b[0m\u001b[1;33m(\u001b[0m\u001b[0mchunks\u001b[0m\u001b[1;33m,\u001b[0m \u001b[0mfolder_path\u001b[0m\u001b[1;33m)\u001b[0m\u001b[1;33m\u001b[0m\u001b[1;33m\u001b[0m\u001b[0m\n\u001b[0m",
      "\u001b[1;32m~\\AppData\\Local\\Temp\\ipykernel_16856\\3450428333.py\u001b[0m in \u001b[0;36m?\u001b[1;34m(self, chunks, index_name)\u001b[0m\n\u001b[0;32m     85\u001b[0m \u001b[1;33m\u001b[0m\u001b[0m\n\u001b[0;32m     86\u001b[0m             \u001b[0mtext_chunks\u001b[0m \u001b[1;33m=\u001b[0m \u001b[1;33m[\u001b[0m\u001b[0mdoc\u001b[0m\u001b[1;33m.\u001b[0m\u001b[0mpage_content\u001b[0m \u001b[1;32mfor\u001b[0m \u001b[0mdoc\u001b[0m \u001b[1;32min\u001b[0m \u001b[0mchunks\u001b[0m\u001b[1;33m]\u001b[0m\u001b[1;33m\u001b[0m\u001b[1;33m\u001b[0m\u001b[0m\n\u001b[0;32m     87\u001b[0m             \u001b[0membeddings\u001b[0m \u001b[1;33m=\u001b[0m \u001b[1;32mawait\u001b[0m \u001b[0mself\u001b[0m\u001b[1;33m.\u001b[0m\u001b[0mgenerate_embeddings\u001b[0m\u001b[1;33m(\u001b[0m\u001b[0mtext_chunks\u001b[0m\u001b[1;33m)\u001b[0m\u001b[1;33m\u001b[0m\u001b[1;33m\u001b[0m\u001b[0m\n\u001b[0;32m     88\u001b[0m             \u001b[0mself\u001b[0m\u001b[1;33m.\u001b[0m\u001b[0mcreate_faiss_index\u001b[0m\u001b[1;33m(\u001b[0m\u001b[0membeddings\u001b[0m\u001b[1;33m)\u001b[0m\u001b[1;33m\u001b[0m\u001b[1;33m\u001b[0m\u001b[0m\n\u001b[1;32m---> 89\u001b[1;33m             \u001b[0mself\u001b[0m\u001b[1;33m.\u001b[0m\u001b[0msave_faiss_index\u001b[0m\u001b[1;33m(\u001b[0m\u001b[0mindex_name\u001b[0m\u001b[1;33m)\u001b[0m\u001b[1;33m\u001b[0m\u001b[1;33m\u001b[0m\u001b[0m\n\u001b[0m\u001b[0;32m     90\u001b[0m         \u001b[1;32mreturn\u001b[0m \u001b[0mself\u001b[0m\u001b[1;33m.\u001b[0m\u001b[0mindex\u001b[0m\u001b[1;33m\u001b[0m\u001b[1;33m\u001b[0m\u001b[0m\n",
      "\u001b[1;32m~\\AppData\\Local\\Temp\\ipykernel_16856\\3450428333.py\u001b[0m in \u001b[0;36m?\u001b[1;34m(self, index_name)\u001b[0m\n\u001b[0;32m     60\u001b[0m         \u001b[1;32mif\u001b[0m \u001b[0mself\u001b[0m\u001b[1;33m.\u001b[0m\u001b[0mindex\u001b[0m \u001b[1;32mis\u001b[0m \u001b[1;32mNone\u001b[0m\u001b[1;33m:\u001b[0m\u001b[1;33m\u001b[0m\u001b[1;33m\u001b[0m\u001b[0m\n\u001b[0;32m     61\u001b[0m             \u001b[1;32mraise\u001b[0m \u001b[0mValueError\u001b[0m\u001b[1;33m(\u001b[0m\u001b[1;34m\"Index not initialized. Create index first.\"\u001b[0m\u001b[1;33m)\u001b[0m\u001b[1;33m\u001b[0m\u001b[1;33m\u001b[0m\u001b[0m\n\u001b[0;32m     62\u001b[0m \u001b[1;33m\u001b[0m\u001b[0m\n\u001b[0;32m     63\u001b[0m         \u001b[0mindex_path\u001b[0m \u001b[1;33m=\u001b[0m \u001b[0mos\u001b[0m\u001b[1;33m.\u001b[0m\u001b[0mpath\u001b[0m\u001b[1;33m.\u001b[0m\u001b[0mjoin\u001b[0m\u001b[1;33m(\u001b[0m\u001b[0mself\u001b[0m\u001b[1;33m.\u001b[0m\u001b[0mindex_dir\u001b[0m\u001b[1;33m,\u001b[0m \u001b[1;33mf\"\u001b[0m\u001b[1;33m{\u001b[0m\u001b[0mindex_name\u001b[0m\u001b[1;33m}\u001b[0m\u001b[1;33m.index\u001b[0m\u001b[1;33m\"\u001b[0m\u001b[1;33m)\u001b[0m\u001b[1;33m\u001b[0m\u001b[1;33m\u001b[0m\u001b[0m\n\u001b[1;32m---> 64\u001b[1;33m         \u001b[0mfaiss\u001b[0m\u001b[1;33m.\u001b[0m\u001b[0mwrite_index\u001b[0m\u001b[1;33m(\u001b[0m\u001b[0mself\u001b[0m\u001b[1;33m.\u001b[0m\u001b[0mindex\u001b[0m\u001b[1;33m,\u001b[0m \u001b[0mindex_path\u001b[0m\u001b[1;33m)\u001b[0m\u001b[1;33m\u001b[0m\u001b[1;33m\u001b[0m\u001b[0m\n\u001b[0m\u001b[0;32m     65\u001b[0m         \u001b[0mprint\u001b[0m\u001b[1;33m(\u001b[0m\u001b[1;33mf\"\u001b[0m\u001b[1;33mIndex saved to \u001b[0m\u001b[1;33m{\u001b[0m\u001b[0mindex_path\u001b[0m\u001b[1;33m}\u001b[0m\u001b[1;33m\"\u001b[0m\u001b[1;33m)\u001b[0m\u001b[1;33m\u001b[0m\u001b[1;33m\u001b[0m\u001b[0m\n",
      "\u001b[1;32mc:\\Users\\Ruan Felipe\\Desktop\\llm-chunking\\.venv\\Lib\\site-packages\\faiss\\swigfaiss_avx2.py\u001b[0m in \u001b[0;36m?\u001b[1;34m(*args)\u001b[0m\n\u001b[0;32m  10805\u001b[0m \u001b[1;32mdef\u001b[0m \u001b[0mwrite_index\u001b[0m\u001b[1;33m(\u001b[0m\u001b[1;33m*\u001b[0m\u001b[0margs\u001b[0m\u001b[1;33m)\u001b[0m\u001b[1;33m:\u001b[0m\u001b[1;33m\u001b[0m\u001b[1;33m\u001b[0m\u001b[0m\n\u001b[1;32m> 10806\u001b[1;33m     \u001b[1;32mreturn\u001b[0m \u001b[0m_swigfaiss_avx2\u001b[0m\u001b[1;33m.\u001b[0m\u001b[0mwrite_index\u001b[0m\u001b[1;33m(\u001b[0m\u001b[1;33m*\u001b[0m\u001b[0margs\u001b[0m\u001b[1;33m)\u001b[0m\u001b[1;33m\u001b[0m\u001b[1;33m\u001b[0m\u001b[0m\n\u001b[0m",
      "\u001b[1;31mRuntimeError\u001b[0m: Error in __cdecl faiss::FileIOWriter::FileIOWriter(const char *) at D:\\a\\faiss-wheels\\faiss-wheels\\faiss\\faiss\\impl\\io.cpp:102: Error: 'f' failed: could not open data\\websites\\en.wikipedia.org_wiki_peru\\data\\websites\\en.wikipedia.org_wiki_peru.index for writing: No such file or directory"
     ]
    }
   ],
   "source": [
    "em = EmbeddingManager(index_dir = folder_path  )\n",
    "# Generate embeddings\n",
    "index = await em(chunks)"
   ]
  },
  {
   "cell_type": "code",
   "execution_count": null,
   "metadata": {},
   "outputs": [
    {
     "data": {
      "text/plain": [
       "<coroutine object EmbeddingManager.__call__ at 0x0000019ED93F6020>"
      ]
     },
     "execution_count": 10,
     "metadata": {},
     "output_type": "execute_result"
    }
   ],
   "source": []
  }
 ],
 "metadata": {
  "kernelspec": {
   "display_name": ".venv",
   "language": "python",
   "name": "python3"
  },
  "language_info": {
   "codemirror_mode": {
    "name": "ipython",
    "version": 3
   },
   "file_extension": ".py",
   "mimetype": "text/x-python",
   "name": "python",
   "nbconvert_exporter": "python",
   "pygments_lexer": "ipython3",
   "version": "3.12.4"
  }
 },
 "nbformat": 4,
 "nbformat_minor": 2
}
