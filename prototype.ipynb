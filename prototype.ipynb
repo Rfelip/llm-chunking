{
 "cells": [
  {
   "cell_type": "code",
   "execution_count": 1,
   "metadata": {},
   "outputs": [],
   "source": [
    "from src.indexing import build_index_from_url, build_chunks_from_tree, EmbeddingManager\n",
    "import numpy as np\n"
   ]
  },
  {
   "cell_type": "code",
   "execution_count": 2,
   "metadata": {},
   "outputs": [
    {
     "name": "stdout",
     "output_type": "stream",
     "text": [
      "Loading model from local directory or downloading it...\n",
      "Generating embeddings...\n",
      "Created FAISS index with 622 vectors\n",
      "Index saved to data\\websites\\en.wikipedia.org_wiki_Brazil\\website_embbed_index3.index\n",
      "Generating embeddings...\n"
     ]
    }
   ],
   "source": [
    "tree, folder_path = await build_index_from_url(\"https://en.wikipedia.org/wiki/Brazil\", 1)\n",
    "chunks = build_chunks_from_tree(tree)\n",
    "em = EmbeddingManager(index_dir = folder_path)\n",
    "index = em.generate_index_from_chunks(chunks, \"website_embbed_index3\")\n",
    "text = em.search_index([\"what is the area of brazil?\"], 5)"
   ]
  },
  {
   "cell_type": "code",
   "execution_count": 4,
   "metadata": {},
   "outputs": [
    {
     "data": {
      "text/plain": [
       "array([['Brazil is the fifth largest country in the world, and third largest in the Americas, with a total area of 8,515,767.049 km2 (3,287,956 sq mi),[176] including 55,455 km2 (21,411 sq mi) of water. North to South, Brazil is also the longest country in the world, spanning 4,395 km (2,731 mi) from north to south,[13] and the only country in the world that has the equator and the Tropic',\n",
       "        \"Bounded by the Atlantic Ocean on the east, Brazil has a coastline of 7,491 kilometers (4,655 mi).[13] Covering roughly half of South America's land area, it borders all other countries and territories on the continent except Ecuador and Chile.[14] Brazil encompasses a wide range of tropical and subtropical landscapes, as well as wetlands, savannas, plateaus, and low mountains. It\",\n",
       "        \"Brazil,[b] officially the Federative Republic of Brazil,[c] is the largest and easternmost country in South America. It is the world's fifth-largest country by area and the seventh largest by population, with over 212 million people. The country is a federation composed of 26 states and a Federal District, which hosts the capital, Brasília. Its most populous city is São Paulo,\",\n",
       "        '- ^ a b c d e f g h i \"Brazil § geography\". The World Factbook (2025 ed.). Central Intelligence Agency. Retrieved 4 May 2018. (Archived 2018 edition.)\\n- ^ \"Brazil – Land\". Permanent Missions. United Nations. Geography. Archived from the original on 23 October 2014.',\n",
       "        \"Brazil occupies a large area along the eastern coast of South America and includes much of the continent's interior,[175] sharing land borders with Uruguay to the south; Argentina and Paraguay to the southwest; Bolivia and Peru to the west; Colombia to the northwest; and Venezuela, Guyana, Suriname and France (French overseas region of French Guiana) to the north. It shares a\"]],\n",
       "      dtype='<U383')"
      ]
     },
     "execution_count": 4,
     "metadata": {},
     "output_type": "execute_result"
    }
   ],
   "source": [
    "text[1]"
   ]
  },
  {
   "cell_type": "code",
   "execution_count": null,
   "metadata": {},
   "outputs": [],
   "source": [
    "def build_starting_prompt(chunks, query):\n",
    "    base_prompt = '''Using the information below, answer any question the user might have about this topic. If the answer cannot be found, write\n",
    "    \"I'm sorry, but i couldn't find the answer.\"\n",
    "    '''\n",
    "    for information_chunks in chunks:\n",
    "        base_prompt += f\"\\nInformation: {information_chunks}\"\n",
    "    return base_prompt + f\"\\nUser question: {query}\\nAnswer clearly and concisely.\""
   ]
  },
  {
   "cell_type": "code",
   "execution_count": null,
   "metadata": {},
   "outputs": [],
   "source": [
    "def build_conversation_prompt(context_chunks, history, query):"
   ]
  },
  {
   "cell_type": "code",
   "execution_count": null,
   "metadata": {},
   "outputs": [],
   "source": [
    "async def first_ask_model(url, query, user):\n",
    "    tree, folder_path = await build_index_from_url(url, 1)\n",
    "    chunks = build_chunks_from_tree(tree)\n",
    "    em = EmbeddingManager(index_dir = folder_path)\n",
    "    index = em.generate_index_from_chunks(chunks, \"website_embbed_index3\") \n",
    "    related_chunks = em.search_index([query], 5)\n",
    "    prompt = build_starting_prompt(related_chunks, query)"
   ]
  }
 ],
 "metadata": {
  "kernelspec": {
   "display_name": ".venv",
   "language": "python",
   "name": "python3"
  },
  "language_info": {
   "codemirror_mode": {
    "name": "ipython",
    "version": 3
   },
   "file_extension": ".py",
   "mimetype": "text/x-python",
   "name": "python",
   "nbconvert_exporter": "python",
   "pygments_lexer": "ipython3",
   "version": "3.12.4"
  }
 },
 "nbformat": 4,
 "nbformat_minor": 2
}
