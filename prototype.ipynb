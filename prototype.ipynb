{
 "cells": [
  {
   "cell_type": "code",
   "execution_count": 1,
   "metadata": {},
   "outputs": [
    {
     "name": "stderr",
     "output_type": "stream",
     "text": [
      "[nltk_data] Downloading package punkt to ../../data/ntlk_data...\n",
      "[nltk_data]   Package punkt is already up-to-date!\n",
      "[nltk_data] Downloading package punkt_tab to ../../data/ntlk_data...\n",
      "[nltk_data]   Package punkt_tab is already up-to-date!\n"
     ]
    }
   ],
   "source": [
    "from src.indexing import build_index_from_url, build_chunks_from_tree\n",
    "import time\n",
    "import os\n",
    "import faiss\n",
    "import numpy as np\n",
    "from sentence_transformers import SentenceTransformer\n",
    "import time"
   ]
  },
  {
   "cell_type": "code",
   "execution_count": 2,
   "metadata": {},
   "outputs": [
    {
     "name": "stderr",
     "output_type": "stream",
     "text": [
      "Created a chunk of size 607, which is longer than the specified 512\n",
      "Created a chunk of size 660, which is longer than the specified 512\n"
     ]
    }
   ],
   "source": [
    "tree, folder_path = await build_index_from_url(\"https://en.wikipedia.org/wiki/peru\", 1)\n",
    "chunks = build_chunks_from_tree(tree)"
   ]
  },
  {
   "cell_type": "code",
   "execution_count": null,
   "metadata": {},
   "outputs": [],
   "source": [
    "import os\n",
    "import numpy as np\n",
    "from langchain_huggingface import HuggingFaceEmbeddings\n",
    "import faiss\n",
    "\n",
    "class EmbeddingManager:\n",
    "    def __init__(self, model_name='all-MiniLM-L6-v2', model_dir='data/models', index_dir='data/faiss_index'):\n",
    "        self.model_name = model_name\n",
    "        self.model_dir = model_dir\n",
    "        self.index_dir = index_dir\n",
    "        self.model = None\n",
    "        self.index = None\n",
    "\n",
    "        os.makedirs(self.model_dir, exist_ok=True)\n",
    "        os.makedirs(self.index_dir, exist_ok=True)\n",
    "\n",
    "    def load_or_download_model(self):\n",
    "        \"\"\"Load model from local directory or download if not exists\"\"\"\n",
    "        model_path = os.path.join(self.model_dir, self.model_name)\n",
    "        \n",
    "        if os.path.exists(model_path):\n",
    "            print(\"Loading model from local directory...\")\n",
    "            self.model = HuggingFaceEmbeddings(cache_folder = model_path, model_name = self.model_name)\n",
    "        else:\n",
    "            print(\"Downloading model...\")\n",
    "            self.model = HuggingFaceEmbeddings(cache_folder = model_path, model_name = self.model_name)\n",
    "            self.model.save(model_path)\n",
    "        return self.model\n",
    "\n",
    "    def generate_embeddings(self, chunks):\n",
    "        \"\"\"Convert text chunks to embeddings\"\"\"\n",
    "        if not self.model:\n",
    "            self.load_or_download_model()\n",
    "            \n",
    "        print(\"Generating embeddings...\")\n",
    "        return self.model.embed_documents(chunks)\n",
    "\n",
    "    def normalize_embeddings(self, embeddings):\n",
    "        \"\"\"Normalize embeddings to unit length\"\"\"\n",
    "        norms = np.linalg.norm(embeddings, axis=1, keepdims=True)\n",
    "        return embeddings / norms\n",
    "\n",
    "    def create_faiss_index(self, embeddings):\n",
    "        \"\"\"Create and save FAISS index\"\"\"\n",
    "        # Convert embeddings to float32 numpy array\n",
    "        embeddings = np.array(embeddings).astype('float32')\n",
    "        \n",
    "        # Normalize embeddings\n",
    "        embeddings = self.normalize_embeddings(embeddings)\n",
    "        # Create FAISS index\n",
    "        dimension = embeddings.shape[1]\n",
    "        self.index = faiss.IndexFlatL2(dimension)\n",
    "        self.index.add(embeddings)\n",
    "        print(f\"Created FAISS index with {self.index.ntotal} vectors\")\n",
    "        return self.index\n",
    "\n",
    "    def save_faiss_index(self, index_name='my_index'):\n",
    "        \"\"\"Save FAISS index to disk\"\"\"\n",
    "        if self.index is None:\n",
    "            raise ValueError(\"Index not initialized. Create index first.\")\n",
    "            \n",
    "        index_path = os.path.join(self.index_dir, f\"{index_name}.index\")\n",
    "        faiss.write_index(self.index, index_path)\n",
    "        print(f\"Index saved to {index_path}\")\n",
    "\n",
    "    def load_faiss_index(self, index_name='my_index'):\n",
    "        \"\"\"Load FAISS index from disk\"\"\"\n",
    "        index_path = os.path.join(self.index_dir, f\"{index_name}.index\")\n",
    "        if not os.path.exists(index_path):\n",
    "            raise FileNotFoundError(f\"No index found at {index_path}\")\n",
    "            \n",
    "        self.index = faiss.read_index(index_path)\n",
    "        print(f\"Loaded index with {self.index.ntotal} vectors\")\n",
    "        return self.index\n",
    "\n",
    "    def __call__(self, chunks=None, index_name = \"index\"):\n",
    "        \"\"\"Check for existing index, load if exists; else create from chunks and save.\"\"\"\n",
    "        index_path = os.path.join(self.index_dir, f\"{index_name}.index\")\n",
    "        if os.path.exists(index_path):\n",
    "            self.load_faiss_index(index_name)\n",
    "        else:\n",
    "            if chunks is None:\n",
    "                raise ValueError(\"Chunks must be provided to create a new index.\")\n",
    "            \n",
    "            text_chunks = [doc.page_content for doc in chunks]\n",
    "            embeddings = self.generate_embeddings(text_chunks)\n",
    "            self.create_faiss_index(embeddings)\n",
    "            self.save_faiss_index(index_name)\n",
    "        return self.index"
   ]
  },
  {
   "cell_type": "code",
   "execution_count": 18,
   "metadata": {},
   "outputs": [
    {
     "name": "stdout",
     "output_type": "stream",
     "text": [
      "Loaded index with 337 vectors\n"
     ]
    }
   ],
   "source": [
    "em = EmbeddingManager(index_dir = folder_path)\n",
    "# Generate embeddings\n",
    "index = em(chunks, \"2website_embbed_index\")"
   ]
  },
  {
   "cell_type": "code",
   "execution_count": null,
   "metadata": {},
   "outputs": [],
   "source": []
  }
 ],
 "metadata": {
  "kernelspec": {
   "display_name": ".venv",
   "language": "python",
   "name": "python3"
  },
  "language_info": {
   "codemirror_mode": {
    "name": "ipython",
    "version": 3
   },
   "file_extension": ".py",
   "mimetype": "text/x-python",
   "name": "python",
   "nbconvert_exporter": "python",
   "pygments_lexer": "ipython3",
   "version": "3.12.4"
  }
 },
 "nbformat": 4,
 "nbformat_minor": 2
}
