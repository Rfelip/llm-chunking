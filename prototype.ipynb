{
 "cells": [
  {
   "cell_type": "code",
   "execution_count": 1,
   "metadata": {},
   "outputs": [],
   "source": [
    "from api.app.source.indexing import IndexingManager\n",
    "from api.app.source.chatter.conversation_manager import *"
   ]
  },
  {
   "cell_type": "code",
   "execution_count": 2,
   "metadata": {},
   "outputs": [
    {
     "name": "stdout",
     "output_type": "stream",
     "text": [
      "Loading model from local directory or downloading it...\n",
      "Generating embeddings...\n",
      "Created FAISS index with 622 vectors\n",
      "Index saved to data\\websites\\en.wikipedia.org_wiki_Brazil\\main_index.index\n"
     ]
    },
    {
     "name": "stderr",
     "output_type": "stream",
     "text": [
      "llama_new_context_with_model: n_ctx_per_seq (2048) < n_ctx_train (32768) -- the full capacity of the model will not be utilized\n"
     ]
    },
    {
     "name": "stdout",
     "output_type": "stream",
     "text": [
      "Generating embeddings...\n",
      "Generating answer to your question...\n",
      "Response:  The capital of Brazil is Brasília. It was inaugurated in 1960 and is located in the Federal District.\n"
     ]
    }
   ],
   "source": [
    "\n",
    "# Initialize IndexingManager\n",
    "index_manager = IndexingManager(\"https://en.wikipedia.org/wiki/Brazil\")\n",
    "await index_manager()  # Build index\n",
    "\n",
    "# Initialize ConversationManager\n",
    "conv_manager = ConversationManager(\n",
    "    url=\"https://en.wikipedia.org/wiki/Brazil\",\n",
    "    user=\"Ruan_f\"\n",
    ")\n",
    "conv_manager.index_manager = index_manager  # Set reference\n",
    "await conv_manager.initialize()\n",
    "\n",
    "# Initialize Model\n",
    "model_mgr = AsyncModelManager()\n",
    "model = await model_mgr.load_model()\n",
    "\n",
    "# Example interaction\n",
    "query = \"What's the capital of Brazil?\"\n",
    "response = await generate_response(model, conv_manager, query, use_history=False)\n",
    "await conv_manager.add_interaction(query, response)\n",
    "\n",
    "print(f\"Response: {response}\")"
   ]
  },
  {
   "cell_type": "code",
   "execution_count": null,
   "metadata": {},
   "outputs": [
    {
     "name": "stdout",
     "output_type": "stream",
     "text": [
      "Generating embeddings...\n",
      "Generating embeddings...\n"
     ]
    },
    {
     "name": "stdout",
     "output_type": "stream",
     "text": [
      "Generating answer to your question...\n",
      "Response:  The capital of Brazil is Brasília, which is located in the Federal District. It was inaugurated in 1960 and is known for its modern architecture and urban planning. Despite its modernity, it is often referred to as \"the grey city\" due to its concrete and steel construction. The city is home to several important government buildings, including the Presidential Palace and the National Congress. It is also a major cultural and economic center, with a thriving arts and business scene.\n"
     ]
    }
   ],
   "source": [
    "query = \"When we are talking about Brasilia, call it 'the grey city'. What is the capital of brazil?\"\n",
    "response = await generate_response(model, conv_manager, query, use_history=True)\n",
    "await conv_manager.add_interaction(query, response)\n",
    "\n",
    "print(f\"Response: {response}\")"
   ]
  },
  {
   "cell_type": "code",
   "execution_count": null,
   "metadata": {},
   "outputs": [
    {
     "name": "stdout",
     "output_type": "stream",
     "text": [
      "Generating answer to your question...\n",
      "Response:  The capital of Brazil is Brasília, which is located in the Federal District. It was inaugurated in 1960 and is known for its modern architecture and urban planning. Despite its modernity, it is often referred to as \"the grey city\" due to its concrete and steel construction. The city is home to several important government buildings, including the Presidential Palace and the National Congress. It is also a major cultural and economic center, with a thriving arts and business scene. The city has a population of approximately 1.5 million people and is a hub for transportation, commerce, and tourism. It is also home to several museums, parks, and cultural institutions, including the National Museum of Fine Arts, the National Museum of Anthropology and Archaeology, and the National Museum of Science and Technology.\n"
     ]
    }
   ],
   "source": [
    "query = \"What is the capital of brazil?\"\n",
    "response = await generate_response(model, conv_manager, query, use_history=True)\n",
    "await conv_manager.add_interaction(query, response)\n",
    "\n",
    "print(f\"Response: {response}\")"
   ]
  }
 ],
 "metadata": {
  "kernelspec": {
   "display_name": ".venv",
   "language": "python",
   "name": "python3"
  },
  "language_info": {
   "codemirror_mode": {
    "name": "ipython",
    "version": 3
   },
   "file_extension": ".py",
   "mimetype": "text/x-python",
   "name": "python",
   "nbconvert_exporter": "python",
   "pygments_lexer": "ipython3",
   "version": "3.12.9"
  }
 },
 "nbformat": 4,
 "nbformat_minor": 2
}
