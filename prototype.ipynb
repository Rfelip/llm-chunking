{
 "cells": [
  {
   "cell_type": "code",
   "execution_count": 1,
   "metadata": {},
   "outputs": [],
   "source": [
    "from src.indexing import build_index_from_url, build_chunks_from_tree, EmbeddingManager\n",
    "import numpy as np\n"
   ]
  },
  {
   "cell_type": "code",
   "execution_count": 2,
   "metadata": {},
   "outputs": [
    {
     "name": "stdout",
     "output_type": "stream",
     "text": [
      "Loaded index with 622 vectors\n"
     ]
    }
   ],
   "source": [
    "tree, folder_path = await build_index_from_url(\"https://en.wikipedia.org/wiki/Brazil\", 1)\n",
    "chunks = build_chunks_from_tree(tree)\n",
    "em = EmbeddingManager(index_dir = folder_path)\n",
    "index = em.generate_index_from_chunks(chunks, \"website_embbed_index3\")"
   ]
  },
  {
   "cell_type": "code",
   "execution_count": 3,
   "metadata": {},
   "outputs": [
    {
     "name": "stdout",
     "output_type": "stream",
     "text": [
      "Loading model from local directory or downloading it...\n",
      "Generating embeddings...\n"
     ]
    }
   ],
   "source": [
    "text = em.search_index([\"what is the area of brazil?\"], 5)"
   ]
  },
  {
   "cell_type": "code",
   "execution_count": 4,
   "metadata": {},
   "outputs": [
    {
     "data": {
      "text/plain": [
       "(array([[0.49443352, 0.5569072 , 0.67080915, 0.6928383 , 0.72285557]],\n",
       "       dtype=float32),\n",
       " array([['Brazil is the fifth largest country in the world, and third largest in the Americas, with a total area of 8,515,767.049 km2 (3,287,956 sq mi),[176] including 55,455 km2 (21,411 sq mi) of water. North to South, Brazil is also the longest country in the world, spanning 4,395 km (2,731 mi) from north to south,[13] and the only country in the world that has the equator and the Tropic',\n",
       "         \"Bounded by the Atlantic Ocean on the east, Brazil has a coastline of 7,491 kilometers (4,655 mi).[13] Covering roughly half of South America's land area, it borders all other countries and territories on the continent except Ecuador and Chile.[14] Brazil encompasses a wide range of tropical and subtropical landscapes, as well as wetlands, savannas, plateaus, and low mountains. It\",\n",
       "         \"Brazil,[b] officially the Federative Republic of Brazil,[c] is the largest and easternmost country in South America. It is the world's fifth-largest country by area and the seventh largest by population, with over 212 million people. The country is a federation composed of 26 states and a Federal District, which hosts the capital, Brasília. Its most populous city is São Paulo,\",\n",
       "         '- ^ a b c d e f g h i \"Brazil § geography\". The World Factbook (2025 ed.). Central Intelligence Agency. Retrieved 4 May 2018. (Archived 2018 edition.)\\n- ^ \"Brazil – Land\". Permanent Missions. United Nations. Geography. Archived from the original on 23 October 2014.',\n",
       "         \"Brazil occupies a large area along the eastern coast of South America and includes much of the continent's interior,[175] sharing land borders with Uruguay to the south; Argentina and Paraguay to the southwest; Bolivia and Peru to the west; Colombia to the northwest; and Venezuela, Guyana, Suriname and France (French overseas region of French Guiana) to the north. It shares a\"]],\n",
       "       dtype='<U383'))"
      ]
     },
     "execution_count": 4,
     "metadata": {},
     "output_type": "execute_result"
    }
   ],
   "source": [
    "text"
   ]
  },
  {
   "cell_type": "code",
   "execution_count": 5,
   "metadata": {},
   "outputs": [
    {
     "name": "stdout",
     "output_type": "stream",
     "text": [
      "Loaded index with 589 vectors\n",
      "Loading model from local directory or downloading it...\n",
      "Generating embeddings...\n"
     ]
    }
   ],
   "source": [
    "tree, folder_path = await build_index_from_url(\"https://en.wikipedia.org/wiki/colombia\", 1)\n",
    "chunks = build_chunks_from_tree(tree)\n",
    "em = EmbeddingManager(index_dir = folder_path)\n",
    "index = em.generate_index_from_chunks(chunks, \"website_embbed_index3\")\n",
    "text = em.search_index([\"what is the area of colombia?\"], 20)"
   ]
  },
  {
   "cell_type": "code",
   "execution_count": 7,
   "metadata": {},
   "outputs": [
    {
     "data": {
      "text/plain": [
       "(array([[0.65371746, 0.6851644 , 0.69271123, 0.72425246, 0.72650933,\n",
       "         0.73351896, 0.73795813, 0.74958175, 0.76179117, 0.78557706,\n",
       "         0.80348575, 0.80682695, 0.8414334 , 0.8429776 , 0.84361875,\n",
       "         0.84568954, 0.8511041 , 0.8528029 , 0.86761725, 0.87183964]],\n",
       "       dtype=float32),\n",
       " array([[\"Colombia is one of the world's seventeen megadiverse countries; it has the highest level of biodiversity per square mile in the world and the second-highest level overall.[31] Its territory encompasses Amazon rainforest, highlands, grasslands and deserts. It is the only country in South America with coastlines (and islands) along both the Atlantic and Pacific oceans. Colombia is a\",\n",
       "         \"Panama to the northwest. Colombia is divided into 32 departments. The Capital District of Bogotá is also the country's largest city hosting the main financial and cultural hub. Other major urban areas include Medellín, Cali, Barranquilla, Cartagena, Santa Marta, Cúcuta, Ibagué, Villavicencio and Bucaramanga. It covers an area of 1,141,748 square kilometers (440,831 sq mi) and has\",\n",
       "         'The geography of Colombia is characterized by its six main natural regions that present their unique characteristics, from the Andes mountain range region; the Pacific Coastal region; the Caribbean coastal region; the Llanos (plains); the Amazon rainforest region; to the insular area, comprising islands in both the Atlantic and Pacific oceans.[166] It shares its maritime limits',\n",
       "         'Protected areas and the \"National Park System\" cover an area of about 14,268,224 hectares (142,682.24 km2) and account for 12.77% of the Colombian territory.[181] Compared to neighboring countries, rates of deforestation in Colombia are still relatively low.[182] Colombia had a 2018 Forest Landscape Integrity Index mean score of 8.26/10, ranking it 25th globally out of 172',\n",
       "         \"East of the Andes lies the savanna of the Llanos, part of the Orinoco River basin, and in the far southeast, the jungle of the Amazon rainforest. Together these lowlands make up over half Colombia's territory, but they contain less than 6% of the population. To the north the Caribbean coast, home to 21.9% of the population and the location of the major port cities of Barranquilla\",\n",
       "         'Colombia is bordered to the northwest by Panama, to the east by Venezuela and Brazil, and to the south by Ecuador and Peru;[168] it established its maritime boundaries with neighboring countries through seven agreements on the Caribbean Sea and three on the Pacific Ocean.[167] It lies between latitudes 12°N and 4°S and between longitudes 67° and 79°W.',\n",
       "         'Colombia is a highly urbanized country with 77.1% of the population living in urban areas. The largest cities in the country are Bogotá, with 7,387,400 inhabitants, Medellín, with 2,382,399 inhabitants, Cali, with 2,172,527 inhabitants, and Barranquilla, with 1,205,284 inhabitants.[348]\\n| Rank | Name | Department | Pop. | Rank | Name | Department | Pop. | ||',\n",
       "         'Colombia,[b] officially the Republic of Colombia,[c] is a country primarily located in South America with insular regions in North America. The Colombian mainland is bordered by the Caribbean Sea to the north, Venezuela to the east and northeast, Brazil to the southeast, Peru and Ecuador to the south and southwest, the Pacific Ocean to the west, and Panama to the northwest.',\n",
       "         \"The population is concentrated in the Andean highlands and along the Caribbean coast, also the population densities are generally higher in the Andean region. The nine eastern lowland departments, comprising about 54% of Colombia's area, have less than 6% of the population.[169][170] Traditionally a rural society, movement to urban areas was very heavy in the mid-20th century, and\",\n",
       "         \"Estimates for the population of the area that is now Colombia range between 2.5 and 12 million people in 1500; estimates between the extremes include figures of 6[54] and 7 million. With the Spanish conquest, the region's population had collapsed to around 1.2 million people in 1600, for an estimated decrease of 52–90%. By the end of the colonial period, it had declined further to\",\n",
       "         '|---|---|---|---|---|---|---|---|---|---|\\nBogotá Medellín |\\n1 | Bogotá | Distrito Capital | 7,387,400 | 11 | Ibagué | Tolima | 492,554 | Cali |\\n| 2 | Medellín | Antioquia | 2,382,399 | 12 | Villavicencio | Meta | 492,052 | ||\\n| 3 | Cali | Valle del Cauca | 2,172,527 | 13 | Santa Marta | Magdalena | 455,299 | ||',\n",
       "         \"With an estimated 50 million people in 2020, Colombia is the third-most populous country in Latin America, after Brazil and Mexico.[290] At the beginning of the 20th century, Colombia's population was approximately 4 million.[291] Since the early 1970s Colombia has experienced steady declines in its fertility, mortality, and population growth rates. The population growth rate for\",\n",
       "         '- ^ a b Blanco Blanco, Jacqueline (2007). \"De la gran Colombia a la Nueva Granada, contexto histórico-político de la transición constitucional\" (PDF) (in Spanish). Universidad Militar Nueva Granada. Archived (PDF) from the original on 9 October 2022.\\n- ^ \"Colombia\". The World Factbook (2025 ed.). Central Intelligence Agency. 12 January 2022. (Archived 2022 edition.)',\n",
       "         '- ^ Álvaro Chaves Mendoza; Jorge Morales Gómez (1995). Los indios de Colombia (in Spanish). Vol. 7. Editorial Abya Yala. ISBN 978-9978-04-169-7. Archived from the original on 2 February 2024. Retrieved 26 December 2021.',\n",
       "         '- ^ \"El bolo colombiano ratificó su condición de potencia continental\" (in Spanish). reporterosasociados.com.co. Retrieved 14 June 2016.\\nExternal links\\nGeneral information\\n- Colombia at Britannica.com\\n- Lamoureux, Andrew Jackson; Edmundson, George (1911). . Encyclopædia Britannica. Vol. 6 (11th ed.). pp. 700–713.\\n- Colombia at UCB Libraries GovPubs',\n",
       "         \"Part of the Ring of Fire, a region of the world subject to earthquakes and volcanic eruptions,[171] in the interior of Colombia the Andes are the prevailing geographical feature. Most of Colombia's population centers are located in these interior highlands. Beyond the Colombian Massif (in the southwestern departments of Cauca and Nariño), these are divided into three branches\",\n",
       "         '- ^ S.A.S, Editorial La República (26 April 2022). \"Colombia y Medio Oriente\". Diario La República (in Spanish). Archived from the original on 24 November 2022. Retrieved 26 February 2023.',\n",
       "         'In agriculture, Colombia is one of the five largest producers in the world of coffee, avocado and palm oil, and one of the 10 largest producers in the world of sugarcane, banana, pineapple and cocoa. The country also has considerable production of rice, potato and cassava. Although it is not the largest coffee producer in the world (Brazil claims that title), the country has been',\n",
       "         '- ^ \"The Republic of Colombia shares land borders with five (5) countries\". cancilleria.gov.co. Archived from the original on 31 July 2018. Retrieved 6 June 2016.\\n- ^ a b c \"Distribution of the population by regions\". geoportal.dane.gov.co. Archived from the original on 17 June 2016. Retrieved 17 June 2016.',\n",
       "         '- ^ a b Carlos Restrepo Piedrahita (February 1992). \"El nombre \"Colombia\", El único país que lleva el nombre del Descubrimiento\". Revista Credencial (in Spanish). Archived from the original on 5 January 2008. Retrieved 29 February 2008.\\n- ^ Helena Guedes, Maria. A Grande Colômbia!. Clube de Autores. p. 141.']],\n",
       "       dtype='<U383'))"
      ]
     },
     "execution_count": 7,
     "metadata": {},
     "output_type": "execute_result"
    }
   ],
   "source": [
    "text"
   ]
  }
 ],
 "metadata": {
  "kernelspec": {
   "display_name": ".venv",
   "language": "python",
   "name": "python3"
  },
  "language_info": {
   "codemirror_mode": {
    "name": "ipython",
    "version": 3
   },
   "file_extension": ".py",
   "mimetype": "text/x-python",
   "name": "python",
   "nbconvert_exporter": "python",
   "pygments_lexer": "ipython3",
   "version": "3.12.9"
  }
 },
 "nbformat": 4,
 "nbformat_minor": 2
}
